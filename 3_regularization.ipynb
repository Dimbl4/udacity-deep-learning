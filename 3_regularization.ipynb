{
 "cells": [
  {
   "cell_type": "markdown",
   "metadata": {
    "colab_type": "text",
    "id": "kR-4eNdK6lYS"
   },
   "source": [
    "Deep Learning\n",
    "=============\n",
    "\n",
    "Assignment 3\n",
    "------------\n",
    "\n",
    "Previously in `2_fullyconnected.ipynb`, you trained a logistic regression and a neural network model.\n",
    "\n",
    "The goal of this assignment is to explore regularization techniques."
   ]
  },
  {
   "cell_type": "code",
   "execution_count": 1,
   "metadata": {
    "cellView": "both",
    "colab": {
     "autoexec": {
      "startup": false,
      "wait_interval": 0
     }
    },
    "colab_type": "code",
    "id": "JLpLa8Jt7Vu4"
   },
   "outputs": [
    {
     "name": "stderr",
     "output_type": "stream",
     "text": [
      "/home/dmitry/.pyenv/versions/3.6.3/lib/python3.6/importlib/_bootstrap.py:219: RuntimeWarning: compiletime version 3.5 of module 'tensorflow.python.framework.fast_tensor_util' does not match runtime version 3.6\n",
      "  return f(*args, **kwds)\n"
     ]
    }
   ],
   "source": [
    "# These are all the modules we'll be using later. Make sure you can import them\n",
    "# before proceeding further.\n",
    "from __future__ import print_function\n",
    "import numpy as np\n",
    "import tensorflow as tf\n",
    "from six.moves import cPickle as pickle\n",
    "\n",
    "import matplotlib.pyplot as plt\n",
    "\n",
    "%matplotlib inline"
   ]
  },
  {
   "cell_type": "markdown",
   "metadata": {
    "colab_type": "text",
    "id": "1HrCK6e17WzV"
   },
   "source": [
    "First reload the data we generated in `1_notmnist.ipynb`."
   ]
  },
  {
   "cell_type": "code",
   "execution_count": 2,
   "metadata": {
    "cellView": "both",
    "colab": {
     "autoexec": {
      "startup": false,
      "wait_interval": 0
     },
     "output_extras": [
      {
       "item_id": 1
      }
     ]
    },
    "colab_type": "code",
    "executionInfo": {
     "elapsed": 11777,
     "status": "ok",
     "timestamp": 1449849322348,
     "user": {
      "color": "",
      "displayName": "",
      "isAnonymous": false,
      "isMe": true,
      "permissionId": "",
      "photoUrl": "",
      "sessionId": "0",
      "userId": ""
     },
     "user_tz": 480
    },
    "id": "y3-cj1bpmuxc",
    "outputId": "e03576f1-ebbe-4838-c388-f1777bcc9873"
   },
   "outputs": [
    {
     "name": "stdout",
     "output_type": "stream",
     "text": [
      "Training set (200000, 28, 28) (200000,)\n",
      "Validation set (10000, 28, 28) (10000,)\n",
      "Test set (10000, 28, 28) (10000,)\n"
     ]
    }
   ],
   "source": [
    "pickle_file = 'notMNIST.pickle'\n",
    "\n",
    "with open(pickle_file, 'rb') as f:\n",
    "    save = pickle.load(f)\n",
    "    train_dataset = save['train_dataset']\n",
    "    train_labels = save['train_labels']\n",
    "    valid_dataset = save['valid_dataset']\n",
    "    valid_labels = save['valid_labels']\n",
    "    test_dataset = save['test_dataset']\n",
    "    test_labels = save['test_labels']\n",
    "    del save  # hint to help gc free up memory\n",
    "    print('Training set', train_dataset.shape, train_labels.shape)\n",
    "    print('Validation set', valid_dataset.shape, valid_labels.shape)\n",
    "    print('Test set', test_dataset.shape, test_labels.shape)"
   ]
  },
  {
   "cell_type": "markdown",
   "metadata": {
    "colab_type": "text",
    "id": "L7aHrm6nGDMB"
   },
   "source": [
    "Reformat into a shape that's more adapted to the models we're going to train:\n",
    "- data as a flat matrix,\n",
    "- labels as float 1-hot encodings."
   ]
  },
  {
   "cell_type": "code",
   "execution_count": 3,
   "metadata": {
    "cellView": "both",
    "colab": {
     "autoexec": {
      "startup": false,
      "wait_interval": 0
     },
     "output_extras": [
      {
       "item_id": 1
      }
     ]
    },
    "colab_type": "code",
    "executionInfo": {
     "elapsed": 11728,
     "status": "ok",
     "timestamp": 1449849322356,
     "user": {
      "color": "",
      "displayName": "",
      "isAnonymous": false,
      "isMe": true,
      "permissionId": "",
      "photoUrl": "",
      "sessionId": "0",
      "userId": ""
     },
     "user_tz": 480
    },
    "id": "IRSyYiIIGIzS",
    "outputId": "3f8996ee-3574-4f44-c953-5c8a04636582"
   },
   "outputs": [
    {
     "name": "stdout",
     "output_type": "stream",
     "text": [
      "Training set (200000, 784) (200000, 10)\n",
      "Validation set (10000, 784) (10000, 10)\n",
      "Test set (10000, 784) (10000, 10)\n"
     ]
    }
   ],
   "source": [
    "image_size = 28\n",
    "num_labels = 10\n",
    "\n",
    "def reformat(dataset, labels):\n",
    "    dataset = dataset.reshape((-1, image_size * image_size)).astype(np.float32)\n",
    "    # Map 1 to [0.0, 1.0, 0.0 ...], 2 to [0.0, 0.0, 1.0 ...]\n",
    "    labels = (np.arange(num_labels) == labels[:,None]).astype(np.float32)\n",
    "    return dataset, labels\n",
    "train_dataset, train_labels = reformat(train_dataset, train_labels)\n",
    "valid_dataset, valid_labels = reformat(valid_dataset, valid_labels)\n",
    "test_dataset, test_labels = reformat(test_dataset, test_labels)\n",
    "print('Training set', train_dataset.shape, train_labels.shape)\n",
    "print('Validation set', valid_dataset.shape, valid_labels.shape)\n",
    "print('Test set', test_dataset.shape, test_labels.shape)"
   ]
  },
  {
   "cell_type": "code",
   "execution_count": 4,
   "metadata": {
    "cellView": "both",
    "colab": {
     "autoexec": {
      "startup": false,
      "wait_interval": 0
     }
    },
    "colab_type": "code",
    "id": "RajPLaL_ZW6w"
   },
   "outputs": [],
   "source": [
    "def accuracy(predictions, labels):\n",
    "    return (100.0 * np.sum(np.argmax(predictions, 1) == np.argmax(labels, 1)) \n",
    "            / predictions.shape[0])"
   ]
  },
  {
   "cell_type": "markdown",
   "metadata": {
    "colab_type": "text",
    "id": "sgLbUAQ1CW-1"
   },
   "source": [
    "---\n",
    "Problem 1\n",
    "---------\n",
    "\n",
    "Introduce and tune L2 regularization for both logistic and neural network models. Remember that L2 amounts to adding a penalty on the norm of the weights to the loss. In TensorFlow, you can compute the L2 loss for a tensor `t` using `nn.l2_loss(t)`. The right amount of regularization should improve your validation / test accuracy.\n",
    "\n",
    "---"
   ]
  },
  {
   "cell_type": "code",
   "execution_count": 5,
   "metadata": {},
   "outputs": [],
   "source": [
    "batch_size = 128\n",
    "image_size = 28\n",
    "num_labels = 10\n",
    "\n",
    "graph = tf.Graph()\n",
    "with graph.as_default():\n",
    "    tf_train_dataset = tf.placeholder(tf.float32, shape=(batch_size, image_size*image_size))\n",
    "    tf_train_labels = tf.placeholder(tf.float32, shape=(batch_size, num_labels))\n",
    "    tf_valid_dataset = tf.constant(valid_dataset)\n",
    "    tf_test_dataste = tf.constant(test_dataset)\n",
    "    beta = tf.placeholder(tf.float32)\n",
    "    \n",
    "    W_1 = tf.Variable(tf.truncated_normal([image_size*image_size, num_labels]))\n",
    "    b_1 = tf.Variable(tf.zeros([num_labels]))\n",
    "    \n",
    "    logits = tf.matmul(tf_train_dataset, W_1) + b_1\n",
    "    loss = tf.reduce_mean(\n",
    "        tf.nn.softmax_cross_entropy_with_logits(labels=tf_train_labels, logits=logits) + beta * tf.nn.l2_loss(W_1))\n",
    "    \n",
    "    optimizer = tf.train.GradientDescentOptimizer(0.5).minimize(loss)\n",
    "    \n",
    "    train_prediction = tf.nn.softmax(logits)\n",
    "    valid_prediction = tf.nn.softmax(tf.matmul(tf_valid_dataset, W_1) + b_1)\n",
    "    test_prediction = tf.nn.softmax(tf.matmul(tf_test_dataste, W_1) + b_1)\n",
    "    \n",
    "    train_correct_prediction = tf.equal(tf.argmax(tf_train_labels, 1), tf.argmax(train_prediction, 1))\n",
    "    train_accuracy = tf.reduce_mean(tf.cast(train_correct_prediction, tf.float32))\n",
    "    "
   ]
  },
  {
   "cell_type": "code",
   "execution_count": 6,
   "metadata": {},
   "outputs": [
    {
     "name": "stdout",
     "output_type": "stream",
     "text": [
      "Initialized\n",
      "Minibatch loss at step 0: 48.471642\n",
      "Minibatch accuracy: 7.0%\n",
      "Validation accuracy: 13.5%\n",
      "Minibatch loss at step 500: 0.971481\n",
      "Minibatch accuracy: 78.9%\n",
      "Validation accuracy: 81.0%\n",
      "Minibatch loss at step 1000: 0.540438\n",
      "Minibatch accuracy: 89.8%\n",
      "Validation accuracy: 80.8%\n",
      "Minibatch loss at step 1500: 0.697854\n",
      "Minibatch accuracy: 83.6%\n",
      "Validation accuracy: 81.4%\n",
      "Minibatch loss at step 2000: 0.854202\n",
      "Minibatch accuracy: 77.3%\n",
      "Validation accuracy: 80.5%\n",
      "Minibatch loss at step 2500: 0.664051\n",
      "Minibatch accuracy: 85.2%\n",
      "Validation accuracy: 81.1%\n",
      "Minibatch loss at step 3000: 0.727746\n",
      "Minibatch accuracy: 80.5%\n",
      "Validation accuracy: 80.6%\n",
      "Test accuracy: 87.5%\n"
     ]
    }
   ],
   "source": [
    "num_steps = 3001\n",
    "\n",
    "with tf.Session(graph=graph) as session:\n",
    "    tf.global_variables_initializer().run()\n",
    "    print(\"Initialized\")\n",
    "    log_losses = []\n",
    "    log_accuracy = []\n",
    "    for step in range(num_steps):\n",
    "        # Pick an offset within the training data, which has been randomized.\n",
    "        # Note: we could use better randomization across epochs.\n",
    "        offset = (step * batch_size) % (train_labels.shape[0] - batch_size)\n",
    "        # Generate a minibatch.\n",
    "        batch_data = train_dataset[offset:(offset + batch_size), :]\n",
    "        batch_labels = train_labels[offset:(offset + batch_size), :]\n",
    "\n",
    "        feed_dict = {tf_train_dataset: batch_data, tf_train_labels: batch_labels, beta: 0.01}\n",
    "        _, l, predictions = session.run(\n",
    "            [optimizer, loss, train_prediction], feed_dict=feed_dict)\n",
    "        \n",
    "        log_losses.append(l)\n",
    "        log_accuracy.append(accuracy(predictions, batch_labels))\n",
    "        \n",
    "        if (step % 500 == 0):\n",
    "            print(\"Minibatch loss at step %d: %f\" % (step, l))\n",
    "            print(\"Minibatch accuracy: %.1f%%\" % accuracy(predictions, batch_labels))\n",
    "            print(\"Validation accuracy: %.1f%%\" % accuracy(\n",
    "                valid_prediction.eval(), valid_labels))\n",
    "    print(\"Test accuracy: %.1f%%\" % accuracy(test_prediction.eval(), test_labels))"
   ]
  },
  {
   "cell_type": "code",
   "execution_count": 7,
   "metadata": {},
   "outputs": [
    {
     "name": "stdout",
     "output_type": "stream",
     "text": [
      "CPU times: user 2min 14s, sys: 14 s, total: 2min 28s\n",
      "Wall time: 1min 51s\n"
     ]
    }
   ],
   "source": [
    "%%time\n",
    "betas = [pow(10, i)  for i in np.arange(-4, -1, 0.25)]\n",
    "num_steps = 3001\n",
    "\n",
    "valid_accuracy = []\n",
    "test_accuracy = []\n",
    "\n",
    "for beta_v in betas:\n",
    "    with tf.Session(graph=graph) as session:\n",
    "        tf.global_variables_initializer().run()\n",
    "        for step in range(num_steps):\n",
    "            # Pick an offset within the training data, which has been randomized.\n",
    "            # Note: we could use better randomization across epochs.\n",
    "            offset = (step * batch_size) % (train_labels.shape[0] - batch_size)\n",
    "            # Generate a minibatch.\n",
    "            batch_data = train_dataset[offset:(offset + batch_size), :]\n",
    "            batch_labels = train_labels[offset:(offset + batch_size), :]\n",
    "\n",
    "            feed_dict = {tf_train_dataset: batch_data, tf_train_labels: batch_labels, beta: beta_v}\n",
    "            _, l, predictions = session.run([optimizer, loss, train_prediction], feed_dict=feed_dict)\n",
    "        \n",
    "        valid_accuracy.append(accuracy(valid_prediction.eval(), valid_labels))\n",
    "        test_accuracy.append(accuracy(test_prediction.eval(), test_labels))\n",
    "    "
   ]
  },
  {
   "cell_type": "code",
   "execution_count": 8,
   "metadata": {},
   "outputs": [
    {
     "data": {
      "text/plain": [
       "[]"
      ]
     },
     "execution_count": 8,
     "metadata": {},
     "output_type": "execute_result"
    },
    {
     "data": {
      "image/png": "[encoded data removed]",
      "text/plain": [
       "<matplotlib.figure.Figure at 0x7f8c7aefc7f0>"
      ]
     },
     "metadata": {},
     "output_type": "display_data"
    }
   ],
   "source": [
    "plt.figure(figsize=(12, 6))\n",
    "plt.semilogx(betas, valid_accuracy, label='valid')\n",
    "plt.semilogx(betas, test_accuracy, label='test')\n",
    "plt.grid()\n",
    "plt.legend()\n",
    "plt.title(\"NN: 784-softmax\")\n",
    "plt.xlabel(\"beta\")\n",
    "plt.ylabel(\"Test accuracy\")\n",
    "plt.plot()"
   ]
  },
  {
   "cell_type": "code",
   "execution_count": 9,
   "metadata": {},
   "outputs": [],
   "source": [
    "batch_size = 128\n",
    "image_size = 28\n",
    "num_hidden_nodes = 1024\n",
    "\n",
    "graph = tf.Graph()\n",
    "with graph.as_default():\n",
    "    \n",
    "    # Input data. For the training data, we use a placeholder that will be fed\n",
    "    # at run time with a training minibatch.\n",
    "    tf_train_dataset = tf.placeholder(tf.float32, shape=(batch_size, image_size*image_size))\n",
    "    tf_train_labels = tf.placeholder(tf.float32, shape=(batch_size, num_labels))\n",
    "    tf_valid_dataset = tf.constant(valid_dataset)\n",
    "    tf_test_dataset = tf.constant(test_dataset)\n",
    "    beta = tf.placeholder(tf.float32)\n",
    "    \n",
    "    # First layer (variables and computations).\n",
    "    W_1 = tf.Variable(tf.truncated_normal([image_size*image_size, num_hidden_nodes]))\n",
    "    b_1 = tf.Variable(tf.zeros([num_hidden_nodes]))\n",
    "    logits_1 = tf.matmul(tf_train_dataset, W_1) + b_1\n",
    "    relu_1 = tf.nn.relu(logits_1)\n",
    "    \n",
    "    # Second layer.\n",
    "    W_2 = tf.Variable(tf.truncated_normal([num_hidden_nodes, num_labels]))\n",
    "    b_2 = tf.Variable(tf.zeros([num_labels]))\n",
    "    logits_2 = tf.matmul(relu_1, W_2) + b_2\n",
    "    loss = tf.reduce_mean(tf.nn.softmax_cross_entropy_with_logits(labels=tf_train_labels, logits=logits_2)) +\\\n",
    "    beta * (tf.nn.l2_loss(W_1) + tf.nn.l2_loss(W_2))\n",
    "    \n",
    "    # Optimizer.\n",
    "    optimizer = tf.train.GradientDescentOptimizer(0.5).minimize(loss)\n",
    "\n",
    "    # Predictions for the training, validation, and test data.\n",
    "    train_prediction = tf.nn.softmax(logits_2)\n",
    "    layer_1_val = tf.nn.relu(tf.matmul(tf_valid_dataset, W_1) + b_1)\n",
    "    valid_prediction = tf.nn.softmax(tf.matmul(layer_1_val, W_2) + b_2)    \n",
    "    layer_1_test = tf.nn.relu(tf.matmul(tf_test_dataset, W_1) + b_1)\n",
    "    test_prediction = tf.nn.softmax(tf.matmul(layer_1_test, W_2) + b_2)"
   ]
  },
  {
   "cell_type": "code",
   "execution_count": 10,
   "metadata": {},
   "outputs": [
    {
     "name": "stdout",
     "output_type": "stream",
     "text": [
      "Initialized\n",
      "Minibatch loss at step 0: 3500.679199\n",
      "Minibatch accuracy: 7.8%\n",
      "Validation accuracy: 30.1%\n",
      "Minibatch loss at step 500: 21.272594\n",
      "Minibatch accuracy: 85.2%\n",
      "Validation accuracy: 85.1%\n",
      "Minibatch loss at step 1000: 0.687332\n",
      "Minibatch accuracy: 89.8%\n",
      "Validation accuracy: 82.9%\n",
      "Minibatch loss at step 1500: 0.631106\n",
      "Minibatch accuracy: 86.7%\n",
      "Validation accuracy: 83.8%\n",
      "Minibatch loss at step 2000: 0.781760\n",
      "Minibatch accuracy: 82.0%\n",
      "Validation accuracy: 83.1%\n",
      "Minibatch loss at step 2500: 0.653400\n",
      "Minibatch accuracy: 86.7%\n",
      "Validation accuracy: 83.4%\n",
      "Minibatch loss at step 3000: 0.718009\n",
      "Minibatch accuracy: 84.4%\n",
      "Validation accuracy: 83.5%\n",
      "Test accuracy: 90.0%\n"
     ]
    }
   ],
   "source": [
    "num_steps = 3001\n",
    "\n",
    "with tf.Session(graph=graph) as session:\n",
    "    tf.global_variables_initializer().run()\n",
    "    print(\"Initialized\")\n",
    "    nn_losses = []\n",
    "    nn_accuracy = []\n",
    "    for step in range(num_steps):\n",
    "        # Pick an offset within the training data, which has been randomized.\n",
    "        # Note: we could use better randomization across epochs.\n",
    "        offset = (step * batch_size) % (train_labels.shape[0] - batch_size)\n",
    "        # Generate a minibatch.\n",
    "        batch_data = train_dataset[offset:(offset + batch_size), :]\n",
    "        batch_labels = train_labels[offset:(offset + batch_size), :]\n",
    "\n",
    "        feed_dict = {tf_train_dataset: batch_data, tf_train_labels: batch_labels, beta: 0.01}\n",
    "        _, l, predictions = session.run(\n",
    "            [optimizer, loss, train_prediction], feed_dict=feed_dict)\n",
    "        \n",
    "        nn_losses.append(l)\n",
    "        nn_accuracy.append(accuracy(predictions, batch_labels))\n",
    "        \n",
    "        if (step % 500 == 0):\n",
    "            print(\"Minibatch loss at step %d: %f\" % (step, l))\n",
    "            print(\"Minibatch accuracy: %.1f%%\" % accuracy(predictions, batch_labels))\n",
    "            print(\"Validation accuracy: %.1f%%\" % accuracy(\n",
    "                valid_prediction.eval(), valid_labels))\n",
    "    print(\"Test accuracy: %.1f%%\" % accuracy(test_prediction.eval(), test_labels))"
   ]
  },
  {
   "cell_type": "code",
   "execution_count": 11,
   "metadata": {},
   "outputs": [
    {
     "name": "stdout",
     "output_type": "stream",
     "text": [
      "CPU times: user 39min 59s, sys: 3min 27s, total: 43min 27s\n",
      "Wall time: 32min 18s\n"
     ]
    }
   ],
   "source": [
    "%%time\n",
    "betas = [pow(10, i)  for i in np.arange(-4, -1, 0.25)]\n",
    "num_steps = 3001\n",
    "\n",
    "valid_accuracy = []\n",
    "test_accuracy = []\n",
    "\n",
    "for beta_v in betas:\n",
    "    with tf.Session(graph=graph) as session:\n",
    "        tf.global_variables_initializer().run()\n",
    "        for step in range(num_steps):\n",
    "            # Pick an offset within the training data, which has been randomized.\n",
    "            # Note: we could use better randomization across epochs.\n",
    "            offset = (step * batch_size) % (train_labels.shape[0] - batch_size)\n",
    "            # Generate a minibatch.\n",
    "            batch_data = train_dataset[offset:(offset + batch_size), :]\n",
    "            batch_labels = train_labels[offset:(offset + batch_size), :]\n",
    "\n",
    "            feed_dict = {tf_train_dataset: batch_data, tf_train_labels: batch_labels, beta: beta_v}\n",
    "            _, l, predictions = session.run([optimizer, loss, train_prediction], feed_dict=feed_dict)\n",
    "        \n",
    "        valid_accuracy.append(accuracy(valid_prediction.eval(), valid_labels))\n",
    "        test_accuracy.append(accuracy(test_prediction.eval(), test_labels))\n",
    "    "
   ]
  },
  {
   "cell_type": "code",
   "execution_count": 12,
   "metadata": {},
   "outputs": [
    {
     "data": {
      "text/plain": [
       "[]"
      ]
     },
     "execution_count": 12,
     "metadata": {},
     "output_type": "execute_result"
    },
    {
     "data": {
      "image/png": "[encoded data removed]",
      "text/plain": [
       "<matplotlib.figure.Figure at 0x7f8c78b53ac8>"
      ]
     },
     "metadata": {},
     "output_type": "display_data"
    }
   ],
   "source": [
    "plt.figure(figsize=(12, 6))\n",
    "plt.semilogx(betas, valid_accuracy, label='valid')\n",
    "plt.semilogx(betas, test_accuracy, label='test')\n",
    "plt.grid()\n",
    "plt.legend()\n",
    "plt.title(\"NN: 784-reLU-1024-softmax\")\n",
    "plt.xlabel(\"beta\")\n",
    "plt.ylabel(\"Test accuracy\")\n",
    "plt.plot()"
   ]
  },
  {
   "cell_type": "markdown",
   "metadata": {
    "colab_type": "text",
    "id": "na8xX2yHZzNF"
   },
   "source": [
    "---\n",
    "Problem 2\n",
    "---------\n",
    "Let's demonstrate an extreme case of overfitting. Restrict your training data to just a few batches. What happens?\n",
    "\n",
    "---"
   ]
  },
  {
   "cell_type": "markdown",
   "metadata": {},
   "source": [
    "A few batches without regularization."
   ]
  },
  {
   "cell_type": "code",
   "execution_count": 13,
   "metadata": {},
   "outputs": [],
   "source": [
    "batch_size = 128\n",
    "image_size = 28\n",
    "num_hidden_nodes = 1024\n",
    "\n",
    "graph = tf.Graph()\n",
    "with graph.as_default():\n",
    "    \n",
    "    # Input data. For the training data, we use a placeholder that will be fed\n",
    "    # at run time with a training minibatch.\n",
    "    tf_train_dataset = tf.placeholder(tf.float32, shape=(batch_size, image_size*image_size))\n",
    "    tf_train_labels = tf.placeholder(tf.float32, shape=(batch_size, num_labels))\n",
    "    tf_valid_dataset = tf.constant(valid_dataset)\n",
    "    tf_test_dataset = tf.constant(test_dataset)\n",
    "    \n",
    "    # First layer (variables and computations).\n",
    "    W_1 = tf.Variable(tf.truncated_normal([image_size*image_size, num_hidden_nodes]))\n",
    "    b_1 = tf.Variable(tf.zeros([num_hidden_nodes]))\n",
    "    logits_1 = tf.matmul(tf_train_dataset, W_1) + b_1\n",
    "    relu_1 = tf.nn.relu(logits_1)\n",
    "    \n",
    "    # Second layer.\n",
    "    W_2 = tf.Variable(tf.truncated_normal([num_hidden_nodes, num_labels]))\n",
    "    b_2 = tf.Variable(tf.zeros([num_labels]))\n",
    "    logits_2 = tf.matmul(relu_1, W_2) + b_2\n",
    "    loss = tf.reduce_mean(tf.nn.softmax_cross_entropy_with_logits(labels=tf_train_labels, logits=logits_2))\n",
    "    \n",
    "    # Optimizer.\n",
    "    optimizer = tf.train.GradientDescentOptimizer(0.5).minimize(loss)\n",
    "\n",
    "    # Predictions for the training, validation, and test data.\n",
    "    train_prediction = tf.nn.softmax(logits_2)\n",
    "    layer_1_val = tf.nn.relu(tf.matmul(tf_valid_dataset, W_1) + b_1)\n",
    "    valid_prediction = tf.nn.softmax(tf.matmul(layer_1_val, W_2) + b_2)    \n",
    "    layer_1_test = tf.nn.relu(tf.matmul(tf_test_dataset, W_1) + b_1)\n",
    "    test_prediction = tf.nn.softmax(tf.matmul(layer_1_test, W_2) + b_2)"
   ]
  },
  {
   "cell_type": "code",
   "execution_count": 14,
   "metadata": {},
   "outputs": [
    {
     "name": "stdout",
     "output_type": "stream",
     "text": [
      "Initialized\n",
      "Minibatch loss at step 0: 383.819885\n",
      "Minibatch accuracy: 10.9%\n",
      "Validation accuracy: 36.4%\n",
      "Minibatch loss at step 500: 0.000000\n",
      "Minibatch accuracy: 100.0%\n",
      "Validation accuracy: 74.0%\n",
      "Minibatch loss at step 1000: 0.000000\n",
      "Minibatch accuracy: 100.0%\n",
      "Validation accuracy: 73.9%\n",
      "Minibatch loss at step 1500: 0.000000\n",
      "Minibatch accuracy: 100.0%\n",
      "Validation accuracy: 73.9%\n",
      "Minibatch loss at step 2000: 0.000000\n",
      "Minibatch accuracy: 100.0%\n",
      "Validation accuracy: 73.9%\n",
      "Minibatch loss at step 2500: 0.000000\n",
      "Minibatch accuracy: 100.0%\n",
      "Validation accuracy: 73.9%\n",
      "Minibatch loss at step 3000: 0.000000\n",
      "Minibatch accuracy: 100.0%\n",
      "Validation accuracy: 73.9%\n",
      "Test accuracy: 81.5%\n"
     ]
    }
   ],
   "source": [
    "num_steps = 3001\n",
    "num_batches = 5\n",
    "small_train_dataset = train_dataset[:batch_size*num_batches, :]\n",
    "small_train_labels = train_labels[:batch_size*num_batches, :]\n",
    "\n",
    "with tf.Session(graph=graph) as session:\n",
    "    tf.global_variables_initializer().run()\n",
    "    print(\"Initialized\")\n",
    "    for step in range(num_steps):\n",
    "        # Pick an offset within the training data, which has been randomized.\n",
    "        # Note: we could use better randomization across epochs.\n",
    "        offset = (step * batch_size) % (small_train_labels.shape[0] - batch_size)\n",
    "        # Generate a minibatch.\n",
    "        batch_data = small_train_dataset[offset:(offset + batch_size), :]\n",
    "        batch_labels = small_train_labels[offset:(offset + batch_size), :]\n",
    "\n",
    "        feed_dict = {tf_train_dataset: batch_data, tf_train_labels: batch_labels}\n",
    "        _, l, predictions = session.run(\n",
    "            [optimizer, loss, train_prediction], feed_dict=feed_dict)\n",
    "        \n",
    "        if (step % 500 == 0):\n",
    "            print(\"Minibatch loss at step %d: %f\" % (step, l))\n",
    "            print(\"Minibatch accuracy: %.1f%%\" % accuracy(predictions, batch_labels))\n",
    "            print(\"Validation accuracy: %.1f%%\" % accuracy(\n",
    "                valid_prediction.eval(), valid_labels))\n",
    "    print(\"Test accuracy: %.1f%%\" % accuracy(test_prediction.eval(), test_labels))"
   ]
  },
  {
   "cell_type": "markdown",
   "metadata": {},
   "source": [
    "A few batches with regularization."
   ]
  },
  {
   "cell_type": "code",
   "execution_count": 15,
   "metadata": {},
   "outputs": [],
   "source": [
    "batch_size = 128\n",
    "image_size = 28\n",
    "num_hidden_nodes = 1024\n",
    "\n",
    "graph = tf.Graph()\n",
    "with graph.as_default():\n",
    "    \n",
    "    # Input data. For the training data, we use a placeholder that will be fed\n",
    "    # at run time with a training minibatch.\n",
    "    tf_train_dataset = tf.placeholder(tf.float32, shape=(batch_size, image_size*image_size))\n",
    "    tf_train_labels = tf.placeholder(tf.float32, shape=(batch_size, num_labels))\n",
    "    tf_valid_dataset = tf.constant(valid_dataset)\n",
    "    tf_test_dataset = tf.constant(test_dataset)\n",
    "    beta = tf.placeholder(tf.float32)\n",
    "    \n",
    "    # First layer (variables and computations).\n",
    "    W_1 = tf.Variable(tf.truncated_normal([image_size*image_size, num_hidden_nodes]))\n",
    "    b_1 = tf.Variable(tf.zeros([num_hidden_nodes]))\n",
    "    logits_1 = tf.matmul(tf_train_dataset, W_1) + b_1\n",
    "    relu_1 = tf.nn.relu(logits_1)\n",
    "    \n",
    "    # Second layer.\n",
    "    W_2 = tf.Variable(tf.truncated_normal([num_hidden_nodes, num_labels]))\n",
    "    b_2 = tf.Variable(tf.zeros([num_labels]))\n",
    "    logits_2 = tf.matmul(relu_1, W_2) + b_2\n",
    "    loss = tf.reduce_mean(tf.nn.softmax_cross_entropy_with_logits(labels=tf_train_labels, logits=logits_2)) +\\\n",
    "    beta * (tf.nn.l2_loss(W_1) + tf.nn.l2_loss(W_2))\n",
    "    \n",
    "    # Optimizer.\n",
    "    optimizer = tf.train.GradientDescentOptimizer(0.5).minimize(loss)\n",
    "\n",
    "    # Predictions for the training, validation, and test data.\n",
    "    train_prediction = tf.nn.softmax(logits_2)\n",
    "    layer_1_val = tf.nn.relu(tf.matmul(tf_valid_dataset, W_1) + b_1)\n",
    "    valid_prediction = tf.nn.softmax(tf.matmul(layer_1_val, W_2) + b_2)    \n",
    "    layer_1_test = tf.nn.relu(tf.matmul(tf_test_dataset, W_1) + b_1)\n",
    "    test_prediction = tf.nn.softmax(tf.matmul(layer_1_test, W_2) + b_2)"
   ]
  },
  {
   "cell_type": "code",
   "execution_count": 16,
   "metadata": {},
   "outputs": [
    {
     "name": "stdout",
     "output_type": "stream",
     "text": [
      "Initialized\n",
      "Minibatch loss at step 0: 3539.280029\n",
      "Minibatch accuracy: 12.5%\n",
      "Validation accuracy: 36.2%\n",
      "Minibatch loss at step 500: 21.051146\n",
      "Minibatch accuracy: 100.0%\n",
      "Validation accuracy: 78.2%\n",
      "Minibatch loss at step 1000: 0.485157\n",
      "Minibatch accuracy: 100.0%\n",
      "Validation accuracy: 79.0%\n",
      "Minibatch loss at step 1500: 0.318382\n",
      "Minibatch accuracy: 100.0%\n",
      "Validation accuracy: 79.0%\n",
      "Minibatch loss at step 2000: 0.305720\n",
      "Minibatch accuracy: 100.0%\n",
      "Validation accuracy: 79.0%\n",
      "Minibatch loss at step 2500: 0.299560\n",
      "Minibatch accuracy: 100.0%\n",
      "Validation accuracy: 79.0%\n",
      "Minibatch loss at step 3000: 0.295808\n",
      "Minibatch accuracy: 100.0%\n",
      "Validation accuracy: 79.0%\n",
      "Test accuracy: 85.3%\n"
     ]
    }
   ],
   "source": [
    "num_steps = 3001\n",
    "num_batches = 5\n",
    "small_train_dataset = train_dataset[:batch_size*num_batches, :]\n",
    "small_train_labels = train_labels[:batch_size*num_batches, :]\n",
    "\n",
    "with tf.Session(graph=graph) as session:\n",
    "    tf.global_variables_initializer().run()\n",
    "    print(\"Initialized\")\n",
    "    for step in range(num_steps):\n",
    "        # Pick an offset within the training data, which has been randomized.\n",
    "        # Note: we could use better randomization across epochs.\n",
    "        offset = (step * batch_size) % (small_train_labels.shape[0] - batch_size)\n",
    "        # Generate a minibatch.\n",
    "        batch_data = small_train_dataset[offset:(offset + batch_size), :]\n",
    "        batch_labels = small_train_labels[offset:(offset + batch_size), :]\n",
    "\n",
    "        feed_dict = {tf_train_dataset: batch_data, tf_train_labels: batch_labels, beta: 0.01}\n",
    "        _, l, predictions = session.run(\n",
    "            [optimizer, loss, train_prediction], feed_dict=feed_dict)\n",
    "        \n",
    "        if (step % 500 == 0):\n",
    "            print(\"Minibatch loss at step %d: %f\" % (step, l))\n",
    "            print(\"Minibatch accuracy: %.1f%%\" % accuracy(predictions, batch_labels))\n",
    "            print(\"Validation accuracy: %.1f%%\" % accuracy(\n",
    "                valid_prediction.eval(), valid_labels))\n",
    "    print(\"Test accuracy: %.1f%%\" % accuracy(test_prediction.eval(), test_labels))"
   ]
  },
  {
   "cell_type": "markdown",
   "metadata": {
    "colab_type": "text",
    "id": "ww3SCBUdlkRc"
   },
   "source": [
    "---\n",
    "Problem 3\n",
    "---------\n",
    "Introduce Dropout on the hidden layer of the neural network. Remember: Dropout should only be introduced during training, not evaluation, otherwise your evaluation results would be stochastic as well. TensorFlow provides `nn.dropout()` for that, but you have to make sure it's only inserted during training.\n",
    "\n",
    "What happens to our extreme overfitting case?\n",
    "\n",
    "---"
   ]
  },
  {
   "cell_type": "code",
   "execution_count": 17,
   "metadata": {},
   "outputs": [],
   "source": [
    "batch_size = 128\n",
    "num_hidden_nodes = 1024\n",
    "image_size = 28\n",
    "num_labels = 10\n",
    "\n",
    "graph = tf.Graph()\n",
    "with graph.as_default():\n",
    "    tf_train_dataset = tf.placeholder(tf.float32, shape=(batch_size, image_size*image_size))\n",
    "    tf_train_labels = tf.placeholder(tf.float32, shape=(batch_size, num_labels))\n",
    "    tf_valid_dataset = tf.constant(valid_dataset)\n",
    "    tf_test_dataset = tf.constant(test_dataset)\n",
    "    \n",
    "    W_1 = tf.Variable(tf.truncated_normal([image_size*image_size, num_hidden_nodes]))\n",
    "    b_1 = tf.Variable(tf.zeros([num_hidden_nodes]))\n",
    "    W_2 = tf.Variable(tf.truncated_normal([num_hidden_nodes, num_labels]))\n",
    "    b_2 = tf.Variable(tf.zeros([num_labels]))\n",
    "    \n",
    "    logits_1 = tf.matmul(tf_train_dataset, W_1) + b_1\n",
    "    relu_1 = tf.nn.relu(logits_1)\n",
    "    dropout_1 = tf.nn.dropout(relu_1, 0.5)\n",
    "    logits_2 = tf.matmul(dropout_1, W_2) + b_2\n",
    "    \n",
    "    loss = tf.reduce_mean(tf.nn.softmax_cross_entropy_with_logits(labels=tf_train_labels, logits=logits_2))\n",
    "    \n",
    "    optimizer = tf.train.GradientDescentOptimizer(0.5).minimize(loss)\n",
    "    \n",
    "    train_prediction = tf.nn.softmax(logits_2)\n",
    "    layer_1_val = tf.nn.relu(tf.matmul(tf_valid_dataset, W_1) + b_1)\n",
    "    valid_prediction = tf.nn.softmax(tf.matmul(layer_1_val, W_2) + b_2)    \n",
    "    layer_1_test = tf.nn.relu(tf.matmul(tf_test_dataset, W_1) + b_1)\n",
    "    test_prediction = tf.nn.softmax(tf.matmul(layer_1_test, W_2) + b_2)"
   ]
  },
  {
   "cell_type": "code",
   "execution_count": 18,
   "metadata": {},
   "outputs": [
    {
     "name": "stdout",
     "output_type": "stream",
     "text": [
      "Initialized\n",
      "Minibatch loss at step 0: 463.533112\n",
      "Minibatch accuracy: 8.6%\n",
      "Validation accuracy: 30.4%\n",
      "Minibatch loss at step 500: 0.254597\n",
      "Minibatch accuracy: 99.2%\n",
      "Validation accuracy: 78.2%\n",
      "Minibatch loss at step 1000: 0.000013\n",
      "Minibatch accuracy: 100.0%\n",
      "Validation accuracy: 78.1%\n",
      "Minibatch loss at step 1500: 0.000000\n",
      "Minibatch accuracy: 100.0%\n",
      "Validation accuracy: 77.7%\n",
      "Minibatch loss at step 2000: 1.074104\n",
      "Minibatch accuracy: 99.2%\n",
      "Validation accuracy: 78.2%\n",
      "Minibatch loss at step 2500: 0.000000\n",
      "Minibatch accuracy: 100.0%\n",
      "Validation accuracy: 78.1%\n",
      "Minibatch loss at step 3000: 0.000000\n",
      "Minibatch accuracy: 100.0%\n",
      "Validation accuracy: 78.7%\n",
      "Test accuracy: 85.3%\n"
     ]
    }
   ],
   "source": [
    "num_steps = 3001\n",
    "num_batches = 5\n",
    "small_train_dataset = train_dataset[:batch_size*num_batches, :]\n",
    "small_train_labels = train_labels[:batch_size*num_batches, :]\n",
    "\n",
    "with tf.Session(graph=graph) as session:\n",
    "    tf.global_variables_initializer().run()\n",
    "    print(\"Initialized\")\n",
    "    for step in range(num_steps):\n",
    "        # Pick an offset within the training data, which has been randomized.\n",
    "        # Note: we could use better randomization across epochs.\n",
    "        offset = (step * batch_size) % (small_train_labels.shape[0] - batch_size)\n",
    "        # Generate a minibatch.\n",
    "        batch_data = small_train_dataset[offset:(offset + batch_size), :]\n",
    "        batch_labels = small_train_labels[offset:(offset + batch_size), :]\n",
    "\n",
    "        feed_dict = {tf_train_dataset: batch_data, tf_train_labels: batch_labels}\n",
    "        _, l, predictions = session.run(\n",
    "            [optimizer, loss, train_prediction], feed_dict=feed_dict)\n",
    "        \n",
    "        if (step % 500 == 0):\n",
    "            print(\"Minibatch loss at step %d: %f\" % (step, l))\n",
    "            print(\"Minibatch accuracy: %.1f%%\" % accuracy(predictions, batch_labels))\n",
    "            print(\"Validation accuracy: %.1f%%\" % accuracy(\n",
    "                valid_prediction.eval(), valid_labels))\n",
    "    print(\"Test accuracy: %.1f%%\" % accuracy(test_prediction.eval(), test_labels))"
   ]
  },
  {
   "cell_type": "markdown",
   "metadata": {
    "colab_type": "text",
    "id": "-b1hTz3VWZjw"
   },
   "source": [
    "---\n",
    "Problem 4\n",
    "---------\n",
    "\n",
    "Try to get the best performance you can using a multi-layer model! The best reported test accuracy using a deep network is [97.1%](http://yaroslavvb.blogspot.com/2011/09/notmnist-dataset.html?showComment=1391023266211#c8758720086795711595).\n",
    "\n",
    "One avenue you can explore is to add multiple layers.\n",
    "\n",
    "Another one is to use learning rate decay:\n",
    "\n",
    "    global_step = tf.Variable(0)  # count the number of steps taken.\n",
    "    learning_rate = tf.train.exponential_decay(0.5, global_step, ...)\n",
    "    optimizer = tf.train.GradientDescentOptimizer(learning_rate).minimize(loss, global_step=global_step)\n",
    " \n",
    " ---\n"
   ]
  },
  {
   "cell_type": "code",
   "execution_count": 20,
   "metadata": {},
   "outputs": [],
   "source": [
    "batch_size = 128\n",
    "image_size = 28\n",
    "num_labels = 10\n",
    "num_hidden_nodes_1 = 1024\n",
    "num_hidden_nodes_2 = 512\n",
    "num_hidden_nodes_3 = 128\n",
    "\n",
    "graph = tf.Graph()\n",
    "with graph.as_default():\n",
    "    \n",
    "    tf_train_dataset = tf.placeholder(tf.float32, shape=(batch_size, image_size*image_size))\n",
    "    tf_train_labels = tf.placeholder(tf.float32, shape=(batch_size, num_labels))\n",
    "    tf_valid_dataset = tf.constant(valid_dataset)\n",
    "    tf_test_dataset = tf.constant(test_dataset)\n",
    "    global_step = tf.Variable(0)\n",
    "  \n",
    "    W_1 = tf.Variable(tf.truncated_normal([image_size*image_size, num_hidden_nodes_1],\n",
    "                                          stddev=np.sqrt(2.0/(image_size*image_size))))\n",
    "    b_1 = tf.Variable(tf.zeros([num_hidden_nodes_1]))\n",
    "    \n",
    "    W_2 = tf.Variable(tf.truncated_normal([num_hidden_nodes_1, num_hidden_nodes_2],\n",
    "                                         stddev=np.sqrt(2.0/num_hidden_nodes_1)))\n",
    "    b_2 = tf.Variable(tf.zeros([num_hidden_nodes_2]))\n",
    "    \n",
    "    W_3 = tf.Variable(tf.truncated_normal([num_hidden_nodes_2, num_hidden_nodes_3],\n",
    "                                         stddev=np.sqrt(2.0/num_hidden_nodes_2)))\n",
    "    b_3 = tf.Variable(tf.zeros([num_hidden_nodes_3]))\n",
    "    \n",
    "    W_4 = tf.Variable(tf.truncated_normal([num_hidden_nodes_3, num_labels],\n",
    "                                         stddev=np.sqrt(2.0/num_hidden_nodes_3)))\n",
    "    b_4 = tf.Variable(tf.zeros([num_labels]))\n",
    "    \n",
    "    \n",
    "    logits_1 = tf.matmul(tf_train_dataset, W_1) + b_1\n",
    "    relu_1 = tf.nn.relu(logits_1)\n",
    "    dropout_1 = tf.nn.dropout(relu_1, 0.5)\n",
    "    \n",
    "    logits_2 = tf.matmul(dropout_1, W_2) + b_2\n",
    "    relu_2 = tf.nn.relu(logits_2)\n",
    "    dropout_2 = tf.nn.dropout(relu_2, 0.5)\n",
    "    \n",
    "    logits_3 = tf.matmul(dropout_2, W_3) + b_3\n",
    "    relu_3 = tf.nn.relu(logits_3)\n",
    "    dropout_3 = tf.nn.dropout(relu_3, 0.5)\n",
    "    \n",
    "    logits_4 = tf.matmul(dropout_3, W_4) + b_4\n",
    "   \n",
    "    loss = tf.reduce_mean(tf.nn.softmax_cross_entropy_with_logits(labels=tf_train_labels, logits=logits_4))\n",
    "    \n",
    "    learning_rate = tf.train.exponential_decay(0.5, global_step, 100, 0.99, staircase=True)\n",
    "    optimizer = tf.train.GradientDescentOptimizer(learning_rate).minimize(loss, global_step=global_step)\n",
    "    \n",
    "    train_prediction = tf.nn.softmax(logits_4)\n",
    "    \n",
    "    valid_layer_1 = tf.nn.relu(tf.matmul(tf_valid_dataset, W_1) + b_1)\n",
    "    valid_layer_2 = tf.nn.relu(tf.matmul(valid_layer_1, W_2) + b_2)\n",
    "    valid_layer_3 = tf.nn.relu(tf.matmul(valid_layer_2, W_3) + b_3)\n",
    "    valid_prediction = tf.nn.softmax(tf.matmul(valid_layer_3, W_4) + b_4)\n",
    "    \n",
    "    test_layer_1 = tf.nn.relu(tf.matmul(tf_test_dataset, W_1) + b_1)\n",
    "    test_layer_2 = tf.nn.relu(tf.matmul(test_layer_1, W_2) + b_2)\n",
    "    test_layer_3 = tf.nn.relu(tf.matmul(test_layer_2, W_3) + b_3)\n",
    "    test_prediction = tf.nn.softmax(tf.matmul(test_layer_3, W_4) + b_4)"
   ]
  },
  {
   "cell_type": "code",
   "execution_count": 21,
   "metadata": {},
   "outputs": [
    {
     "name": "stdout",
     "output_type": "stream",
     "text": [
      "Initialized\n",
      "Minibatch loss at step 0: 2.823245\n",
      "Minibatch accuracy: 15.6%\n",
      "Validation accuracy: 22.6%\n",
      "Minibatch loss at step 500: 0.561815\n",
      "Minibatch accuracy: 82.8%\n",
      "Validation accuracy: 84.1%\n",
      "Minibatch loss at step 1000: 0.360744\n",
      "Minibatch accuracy: 90.6%\n",
      "Validation accuracy: 85.0%\n",
      "Minibatch loss at step 1500: 0.443442\n",
      "Minibatch accuracy: 86.7%\n",
      "Validation accuracy: 85.6%\n",
      "Minibatch loss at step 2000: 0.614143\n",
      "Minibatch accuracy: 84.4%\n",
      "Validation accuracy: 86.4%\n",
      "Minibatch loss at step 2500: 0.463524\n",
      "Minibatch accuracy: 86.7%\n",
      "Validation accuracy: 86.9%\n",
      "Minibatch loss at step 3000: 0.476858\n",
      "Minibatch accuracy: 85.9%\n",
      "Validation accuracy: 86.9%\n",
      "Minibatch loss at step 3500: 0.400279\n",
      "Minibatch accuracy: 88.3%\n",
      "Validation accuracy: 87.6%\n",
      "Minibatch loss at step 4000: 0.423101\n",
      "Minibatch accuracy: 82.8%\n",
      "Validation accuracy: 87.7%\n",
      "Minibatch loss at step 4500: 0.533767\n",
      "Minibatch accuracy: 82.8%\n",
      "Validation accuracy: 88.3%\n",
      "Minibatch loss at step 5000: 0.449781\n",
      "Minibatch accuracy: 87.5%\n",
      "Validation accuracy: 88.5%\n",
      "Minibatch loss at step 5500: 0.372226\n",
      "Minibatch accuracy: 89.8%\n",
      "Validation accuracy: 88.6%\n",
      "Minibatch loss at step 6000: 0.442219\n",
      "Minibatch accuracy: 86.7%\n",
      "Validation accuracy: 88.5%\n",
      "Minibatch loss at step 6500: 0.594850\n",
      "Minibatch accuracy: 82.8%\n",
      "Validation accuracy: 88.8%\n",
      "Minibatch loss at step 7000: 0.433886\n",
      "Minibatch accuracy: 85.9%\n",
      "Validation accuracy: 88.9%\n",
      "Minibatch loss at step 7500: 0.494615\n",
      "Minibatch accuracy: 85.2%\n",
      "Validation accuracy: 89.0%\n",
      "Minibatch loss at step 8000: 0.373259\n",
      "Minibatch accuracy: 88.3%\n",
      "Validation accuracy: 89.3%\n",
      "Minibatch loss at step 8500: 0.507858\n",
      "Minibatch accuracy: 84.4%\n",
      "Validation accuracy: 89.2%\n",
      "Minibatch loss at step 9000: 0.462606\n",
      "Minibatch accuracy: 84.4%\n",
      "Validation accuracy: 89.4%\n",
      "Minibatch loss at step 9500: 0.335571\n",
      "Minibatch accuracy: 90.6%\n",
      "Validation accuracy: 89.6%\n",
      "Minibatch loss at step 10000: 0.440834\n",
      "Minibatch accuracy: 88.3%\n",
      "Validation accuracy: 89.6%\n",
      "Test accuracy: 94.6%\n"
     ]
    }
   ],
   "source": [
    "num_steps = 10001\n",
    "\n",
    "with tf.Session(graph=graph) as session:\n",
    "    tf.global_variables_initializer().run()\n",
    "    print(\"Initialized\")\n",
    "    log_losses = []\n",
    "    log_accuracy = []\n",
    "    for step in range(num_steps):\n",
    "        # Pick an offset within the training data, which has been randomized.\n",
    "        # Note: we could use better randomization across epochs.\n",
    "        offset = (step * batch_size) % (train_labels.shape[0] - batch_size)\n",
    "        # Generate a minibatch.\n",
    "        batch_data = train_dataset[offset:(offset + batch_size), :]\n",
    "        batch_labels = train_labels[offset:(offset + batch_size), :]\n",
    "\n",
    "        feed_dict = {tf_train_dataset: batch_data, tf_train_labels: batch_labels}\n",
    "        _, l, predictions = session.run([optimizer, loss, train_prediction], feed_dict=feed_dict)\n",
    "               \n",
    "        if (step % 500 == 0):\n",
    "            print(\"Minibatch loss at step %d: %f\" % (step, l))\n",
    "            print(\"Minibatch accuracy: %.1f%%\" % accuracy(predictions, batch_labels))\n",
    "            print(\"Validation accuracy: %.1f%%\" % accuracy(\n",
    "                valid_prediction.eval(), valid_labels))\n",
    "    print(\"Test accuracy: %.1f%%\" % accuracy(test_prediction.eval(), test_labels))"
   ]
  },
  {
   "cell_type": "code",
   "execution_count": null,
   "metadata": {},
   "outputs": [],
   "source": []
  }
 ],
 "metadata": {
  "colab": {
   "default_view": {},
   "name": "3_regularization.ipynb",
   "provenance": [],
   "version": "0.3.2",
   "views": {}
  },
  "kernelspec": {
   "display_name": "Python(ML)",
   "language": "python",
   "name": "mlenv"
  },
  "language_info": {
   "codemirror_mode": {
    "name": "ipython",
    "version": 3
   },
   "file_extension": ".py",
   "mimetype": "text/x-python",
   "name": "python",
   "nbconvert_exporter": "python",
   "pygments_lexer": "ipython3",
   "version": "3.6.3"
  }
 },
 "nbformat": 4,
 "nbformat_minor": 1
}
